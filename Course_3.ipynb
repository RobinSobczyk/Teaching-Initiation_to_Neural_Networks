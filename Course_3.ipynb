{
 "cells": [
  {
   "cell_type": "markdown",
   "id": "39331327",
   "metadata": {},
   "source": [
    "<h1 style=\"color:red\" align=\"center\">Neural Networks : The basics made for all</h1>\n",
    "<p align=\"center\">By Bastien Lhopitallier and Robin Sobczyk</p>"
   ]
  },
  {
   "cell_type": "markdown",
   "id": "0fca34fc",
   "metadata": {},
   "source": [
    "<h2 style=\"color:green\" align=\"center\">Course 3 : Technical limits of AI</h2>\n",
    "course 3 summary\n",
    "\n",
    "- explainability/trust what is, why, dans la vie de tous les jours\n",
    "- how to run basic analysis of the activations with heatmaps\n",
    "- what are the risks of neural networks with malicious sample optimisation (GANs ?)\n",
    "- proxy values = charbel piece droite"
   ]
  }
 ],
 "metadata": {
  "kernelspec": {
   "display_name": "Python 3 (ipykernel)",
   "language": "python",
   "name": "python3"
  },
  "language_info": {
   "codemirror_mode": {
    "name": "ipython",
    "version": 3
   },
   "file_extension": ".py",
   "mimetype": "text/x-python",
   "name": "python",
   "nbconvert_exporter": "python",
   "pygments_lexer": "ipython3",
   "version": "3.9.10"
  }
 },
 "nbformat": 4,
 "nbformat_minor": 5
}
