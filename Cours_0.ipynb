{
 "cells": [
  {
   "cell_type": "markdown",
   "id": "52e3aaa1",
   "metadata": {},
   "source": [
    "<h1 style=\"color:red\" align=\"center\">Neural Networks : The basics made for all</h1>\n",
    "<p align=\"center\">By Bastien Lhopitallier and Robin Sobczyk</p>"
   ]
  },
  {
   "cell_type": "markdown",
   "id": "a26baafd",
   "metadata": {},
   "source": [
    "<h2 align=\"center\"> Overall summary </h2>"
   ]
  },
  {
   "attachments": {},
   "cell_type": "markdown",
   "id": "efe948a9",
   "metadata": {},
   "source": [
    "In this course, you will learn :\n",
    "- what is an artificial neuron and how it is linked to biological neurons\n",
    "- what is a neural network\n",
    "- how training is done for neural network, and what are the different options for training\n",
    "- the main different types of neural networks\n",
    "- how to code a neural network from scratch\n",
    "- how to code your first neural network with PyTorch and train it\n",
    "- how to create and read a computation flow of a neural network\n",
    "- how to debug your neural network through gradient inspection\n",
    "- what are the risks of neural networks with malicious sample optimisation\n",
    "- how to run basic analysis of the activations with heatmaps\n",
    "- what are the limits of neural networks with some measures of random effects\n",
    "\n",
    "requirements (skills, running pip reqs)\n",
    "\n",
    "summary of the 5 courses (things that will be acquired)"
   ]
  },
  {
   "attachments": {},
   "cell_type": "markdown",
   "id": "84d54561",
   "metadata": {},
   "source": [
    "<h2 style=\"color:green\" align=\"center\">Course 0 : Introduction</h2>\n",
    "course 0 summary"
   ]
  },
  {
   "attachments": {},
   "cell_type": "markdown",
   "id": "4481aa20",
   "metadata": {},
   "source": [
    "<h3 style=\"color:skyblue\">From biological to artificial neurons</h3>"
   ]
  },
  {
   "attachments": {},
   "cell_type": "markdown",
   "id": "b1da5cab",
   "metadata": {},
   "source": [
    "Artificial neurons were introduced in 1943 by McCulloch and Pitts in an effort to provide a theoretic framework to study neural activity. Biologically, a neuron is often described with the following model :"
   ]
  },
  {
   "cell_type": "code",
   "execution_count": null,
   "id": "c1a21035",
   "metadata": {},
   "outputs": [],
   "source": [
    "# dessin neurone biologique, formules etc"
   ]
  }
 ],
 "metadata": {
  "kernelspec": {
   "display_name": "Python 3 (ipykernel)",
   "language": "python",
   "name": "python3"
  },
  "language_info": {
   "codemirror_mode": {
    "name": "ipython",
    "version": 3
   },
   "file_extension": ".py",
   "mimetype": "text/x-python",
   "name": "python",
   "nbconvert_exporter": "python",
   "pygments_lexer": "ipython3",
   "version": "3.9.10"
  }
 },
 "nbformat": 4,
 "nbformat_minor": 5
}
