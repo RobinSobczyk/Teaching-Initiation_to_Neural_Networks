{
 "cells": [
  {
   "attachments": {},
   "cell_type": "markdown",
   "id": "efe948a9",
   "metadata": {},
   "source": [
    "# <p style=\"color:red\">Neural Networks : The basics made for all</p>\n",
    "By Bastien Lhopitallier and Robin Sobczyk\n",
    "\n",
    "In this course, you will learn :\n",
    "- what is an artificial neuron and how it is linked to biological neurons\n",
    "- what is a neural network\n",
    "- how training is done for neural network, and what are the different options for training\n",
    "- the main different types of neural networks\n",
    "- how to code a neural network from scratch\n",
    "- how to code your first neural network with PyTorch and train it\n",
    "- how to create and read a computation flow of a neural network\n",
    "- how to debug your neural network through gradient inspection\n",
    "- what are the risks of neural networks with malicious sample optimisation\n",
    "- how to run basic analysis of the activations with heatmaps\n",
    "- what are the limits of neural networks with some measures of random effects"
   ]
  },
  {
   "attachments": {},
   "cell_type": "markdown",
   "id": "1e6e0a2f",
   "metadata": {},
   "source": [
    "Représentation diverses (CNN)\n",
    "\n",
    "Front and back flow\n",
    "\n",
    "JAX\n",
    "\n",
    "Automatic diff\n",
    "\n",
    "Overfitting, underfitting\n",
    "\n",
    "\n",
    "faire une boucle d'entrainement\n",
    "\n",
    "savoir identifier l'overfitting"
   ]
  },
  {
   "attachments": {},
   "cell_type": "markdown",
   "id": "84d54561",
   "metadata": {},
   "source": [
    "## <p style=\"color:green\">Introduction</p>"
   ]
  },
  {
   "attachments": {},
   "cell_type": "markdown",
   "id": "4481aa20",
   "metadata": {},
   "source": [
    "### <p style=\"color:skyblue\">From biological to artificial neurons</p>"
   ]
  },
  {
   "attachments": {},
   "cell_type": "markdown",
   "id": "b1da5cab",
   "metadata": {},
   "source": [
    "Artificial neurons were introduced in 1943 by McCulloch and Pitts in an effort to provide a theoretic framework to study neural activity. Biologically, a neuron is often described with the following model :"
   ]
  },
  {
   "cell_type": "code",
   "execution_count": null,
   "id": "c1a21035",
   "metadata": {},
   "outputs": [],
   "source": [
    "# dessin neurone biologique, formules etc"
   ]
  },
  {
   "attachments": {},
   "cell_type": "markdown",
   "id": "aef77b3d",
   "metadata": {},
   "source": []
  },
  {
   "attachments": {},
   "cell_type": "markdown",
   "id": "7ec4e78b",
   "metadata": {},
   "source": [
    "## <p style=\"color:green\">Building your first neural network (?)</p>"
   ]
  },
  {
   "cell_type": "markdown",
   "id": "850fdb19",
   "metadata": {},
   "source": []
  },
  {
   "attachments": {},
   "cell_type": "markdown",
   "id": "7d8bb7a7",
   "metadata": {},
   "source": [
    "### <p style=\"color:skyblue\">Gradient back-propagation</p>"
   ]
  },
  {
   "cell_type": "markdown",
   "id": "09b943eb",
   "metadata": {},
   "source": []
  },
  {
   "cell_type": "markdown",
   "id": "39331327",
   "metadata": {},
   "source": []
  }
 ],
 "metadata": {
  "kernelspec": {
   "display_name": "Python 3 (ipykernel)",
   "language": "python",
   "name": "python3"
  },
  "language_info": {
   "codemirror_mode": {
    "name": "ipython",
    "version": 3
   },
   "file_extension": ".py",
   "mimetype": "text/x-python",
   "name": "python",
   "nbconvert_exporter": "python",
   "pygments_lexer": "ipython3",
   "version": "3.9.10"
  }
 },
 "nbformat": 4,
 "nbformat_minor": 5
}
