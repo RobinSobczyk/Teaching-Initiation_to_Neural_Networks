{
 "cells": [
  {
   "cell_type": "markdown",
   "id": "39331327",
   "metadata": {},
   "source": [
    "<h1 style=\"color:red\" align=\"center\">Neural Networks : The basics made for all</h1>\n",
    "<p align=\"center\">By Bastien Lhopitallier and Robin Sobczyk</p>"
   ]
  },
  {
   "cell_type": "markdown",
   "id": "b23f96d8",
   "metadata": {},
   "source": [
    "<h2 style=\"color:green\" align=\"center\">Course 1 : First networks</h2>\n",
    "\n",
    "course 1 summary"
   ]
  }
 ],
 "metadata": {
  "kernelspec": {
   "display_name": "Python 3 (ipykernel)",
   "language": "python",
   "name": "python3"
  },
  "language_info": {
   "codemirror_mode": {
    "name": "ipython",
    "version": 3
   },
   "file_extension": ".py",
   "mimetype": "text/x-python",
   "name": "python",
   "nbconvert_exporter": "python",
   "pygments_lexer": "ipython3",
   "version": "3.9.10"
  }
 },
 "nbformat": 4,
 "nbformat_minor": 5
}
