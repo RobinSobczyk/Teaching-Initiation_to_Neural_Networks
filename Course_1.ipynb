{
 "cells": [
  {
   "cell_type": "markdown",
   "id": "39331327",
   "metadata": {},
   "source": [
    "<h1 style=\"color:red\" align=\"center\">Neural Networks: The basics made for all</h1>\n",
    "<p align=\"center\">By Bastien Lhopitallier and Robin Sobczyk</p>"
   ]
  },
  {
   "cell_type": "markdown",
   "id": "b23f96d8",
   "metadata": {},
   "source": [
    "<h2 style=\"color:green\" align=\"center\">Course 1: Your first networks</h2>\n",
    "\n",
    "Here are the topics we will cover in this course:\n",
    "- how do we train a neural network (forward pass, backpropagation)\n",
    "- how to code a neural network from scratch\n",
    "- PyTorch and autograd (automatic differentiation)\n",
    "- how to setup the training on a CPU or a GPU\n",
    "- how to code a neural network with PyTorch and train it\n",
    "- how to save and load your model\n",
    "- classic forms of training"
   ]
  },
  {
   "cell_type": "code",
   "execution_count": 1,
   "id": "343b1b2e",
   "metadata": {},
   "outputs": [],
   "source": [
    "# Imports for the code\n",
    "import matplotlib.pyplot as plt\n",
    "import numpy as np\n",
    "import torch\n",
    "from sklearn.datasets import make_moons\n",
    "from torch import nn, optim\n",
    "from tqdm import tqdm\n",
    "from pathlib import Path"
   ]
  },
  {
   "cell_type": "markdown",
   "id": "59f0c6a4",
   "metadata": {},
   "source": [
    "<h3 style=\"color:skyblue\">The concepts behind network training</h3>"
   ]
  },
  {
   "cell_type": "markdown",
   "id": "e8a814dd",
   "metadata": {},
   "source": [
    "Mathematically, a neural network can be represented as a function. The [universal approximation theorems](https://en.wikipedia.org/wiki/Universal_approximation_theorem) (you can think of [Stone-Weierstrass](https://en.wikipedia.org/wiki/Stone%E2%80%93Weierstrass_theorem) under steroids) are theorems that ensure the existence of networks corresponding to functions that are arbitrarily close to any objective function. We talk about the density of neural networks in the studied function space. Most often, these theorems are about specific families of neural networks. These theorems ensure that our networks can yield good results under good asumptions, and that training them is not pointless.\n",
    "\n",
    "Let's now explain the process of training a neural network in detail. Training a network consists in tuning all its parameters so that it becomes better at what it's been created for. In order to do so, we need to select a function that takes as input all the parameters of the network and outputs a value that is inversely proportional to the performance of the newtork (because most frameworks are programmed to minimize such values, in reality it the output value could be proportional to the performance). For this reason, we call it the loss function: the higher its value, the worse the network is. Usually, we directly use the outputs of the network to compute its values without considering all its parameters, as the outputs already depend on them.\n",
    "\n",
    "Then, we use a method called gradient descent. Its principle is the following: we want to find an acceptable minimum of the loss function (i.e. a better network), so we look at the gradient at the point corresponding to the current network parameters, and we shift the parameters so that we go \"down the slope\".\n",
    "\n",
    "For example, if we visualize the loss function as a multi-dimensional surface (each axis corresponding to one paramater of the network), we can consider the (very) simple case of a network with two parameters $x$ and $y$ with the loss function $f = - x \\times \\exp(-x^2 - y^2)$ around $(0, 0)$. Its surface then looks like this:"
   ]
  },
  {
   "cell_type": "code",
   "execution_count": null,
   "id": "8eabe6bb",
   "metadata": {},
   "outputs": [],
   "source": [
    "# Create a surface\n",
    "x = np.arange(-2, 2, 0.01)\n",
    "y = np.arange(-2, 2, 0.01)\n",
    "X, Y = np.meshgrid(x, y)\n",
    "\n",
    "# Compute f on the points of the surface\n",
    "f = -X * np.exp(-X * X - Y * Y)\n",
    "\n",
    "# Plot the surface\n",
    "fig = plt.figure()\n",
    "ax = fig.add_subplot(111, projection=\"3d\")\n",
    "ax.set_xlabel(\"x\")\n",
    "ax.set_ylabel(\"y\")\n",
    "_ = ax.plot_surface(X, Y, f, cmap=\"rainbow\")"
   ]
  },
  {
   "cell_type": "markdown",
   "id": "ed424c32",
   "metadata": {},
   "source": [
    "We can see that the minimum would be easy to find using gradient descent. However the surface can have multiple local minima, for example it could look like this:"
   ]
  },
  {
   "cell_type": "code",
   "execution_count": null,
   "id": "c48d749d",
   "metadata": {},
   "outputs": [],
   "source": [
    "x = np.arange(-3, 3, 0.01)\n",
    "y = np.arange(-3, 3, 0.01)\n",
    "X, Y = np.meshgrid(x, y)\n",
    "f = -X * np.cos(-X * X - Y * Y)\n",
    "fig = plt.figure()\n",
    "ax = fig.add_subplot(111, projection=\"3d\")\n",
    "ax.set_xlabel(\"x\")\n",
    "ax.set_ylabel(\"y\")\n",
    "_ = ax.plot_surface(X, Y, f, cmap=\"rainbow\")"
   ]
  },
  {
   "cell_type": "markdown",
   "id": "05a87b19",
   "metadata": {},
   "source": [
    "which makes the task harder. This is the same when the network gets deeper and deeper: there are numerous parameters, each one needing to be tuned according to the loss value. The question is: how can we do this when our network has several million parameters spread across tens of layers?\n",
    "\n",
    "And the answer is: the chain rule!\n",
    "\n",
    "Recall that the chain rule is a formula used to compute the derivative of the composition of two functions $f$ and $g$ using their derivatives. If $h = g \\circ f$:\n",
    "$$\n",
    "h'(x) = g'(f(x)) \\times f'(x)\n",
    "$$\n",
    "or if we denote $h = g(u)$ and $u = f(x)$, we can use the Leibniz notation:\n",
    "$$\n",
    "\\dfrac{dh}{dx} = \\dfrac{dh}{du} \\times \\dfrac{du}{dx}\n",
    "$$\n",
    "Now to do the gradient descent, if we denote $L$ the loss function, we need to compute $\\dfrac{\\partial L}{\\partial x}$ for each parameter $x$ of each layer. The chain rule allows us to do this in two steps:\n",
    "- the forward pass, where we feed our inputs to the model to compute our loss and all the values we need to compute the chain rule derivatives for all layers,\n",
    "- the backward pass, where we compute the gradients layer by layer starting from the last one and propagate the parameter shifts through the network. This step is often called the backpropagation.\n",
    "\n",
    "The image below shows how the chain rule enables a propagation of the derivatives, from a neuron point of view:"
   ]
  },
  {
   "attachments": {
    "chain_rule.png": {
     "image/png": "[encoded data removed]"
    }
   },
   "cell_type": "markdown",
   "id": "a583975d",
   "metadata": {},
   "source": [
    "<div style=\"max-width:500px;margin-right: auto; margin-left: auto;\">\n",
    "\n",
    "![chain_rule.png](attachment:chain_rule.png)\n",
    "\n",
    "</div>"
   ]
  },
  {
   "cell_type": "markdown",
   "id": "9b1652e5",
   "metadata": {},
   "source": [
    "Suppose we have access to the backpropagated $\\dfrac{\\partial L}{\\partial f}$ (on the right). The parameters $x$ and $y$ respectively need $\\dfrac{\\partial L}{\\partial x}$ and $\\dfrac{\\partial L}{\\partial y}$ to be updated. Thanks to the chain rule, we can decompose the computations:\n",
    "$$\n",
    "\\dfrac{\\partial L}{\\partial x} = \\dfrac{\\partial L}{\\partial f} \\times \\dfrac{\\partial f}{\\partial x} \\qquad \\dfrac{\\partial L}{\\partial y} = \\dfrac{\\partial L}{\\partial f} \\times \\dfrac{\\partial f}{\\partial y}\n",
    "$$\n",
    "\n",
    "We know $\\dfrac{\\partial L}{\\partial f}$, and the derivatives $\\dfrac{\\partial f}{\\partial x}$ and $\\dfrac{\\partial f}{\\partial y}$ can be computed because we have access to the three parameters $x$, $y$ and $f$ (they're all linked to this specific neuron and not located in another layer).\n",
    "\n",
    "Then we can update the parameters using the formula $x_{new} = x - \\lambda \\dfrac{\\partial L}{\\partial x}$, where $\\lambda$ is a coefficient called the \"learning rate\". Note that we put a minus sign to shift the parameter \"against\" the gradient.\n",
    "\n",
    "Shifting all parameters individually does not guarantee that the loss will decrease (maybe we went \"too far\" on the surface), this is why there is a learning rate, so we can (for example) decrease it throughout the training to ensure we stay close to a loss minimum.\n",
    "\n",
    "Here is another image to summarize the two training steps:"
   ]
  },
  {
   "attachments": {
    "updates.png": {
     "image/png": "[encoded data removed]"
    }
   },
   "cell_type": "markdown",
   "id": "e0082e12",
   "metadata": {},
   "source": [
    "<div style=\"max-width:600px;margin-right: auto; margin-left: auto;\">\n",
    "\n",
    "![updates.png](attachment:updates.png)\n",
    "\n",
    "</div>"
   ]
  },
  {
   "cell_type": "markdown",
   "id": "261affce",
   "metadata": {},
   "source": [
    "Firstly, during the forward pass, the inputs are fed to the network, which computes its output using the sets of parameters $p_1,p_2,\\ldots,p_n$ (corresponding to the blue arrows). Then, the loss is computed from the outputs: the backward propagation can begin!\n",
    "\n",
    "Then, the gradients are propagated through the network (starting from the last layers, represented by the red arrows) and are used to update its sets of parameters (represented by the green arrows).\n",
    "\n",
    "These two steps can then be repeated for a given number of times, or until the loss reaches an acceptable value."
   ]
  },
  {
   "cell_type": "markdown",
   "id": "9fa730a6",
   "metadata": {},
   "source": [
    "<h3 style=\"color:skyblue\">Designing a network, from scratch!</h3>"
   ]
  },
  {
   "cell_type": "markdown",
   "id": "38d8238c",
   "metadata": {},
   "source": [
    "Now let us use numpy to code a linear neural network (another name for a [Multilayer perceptron](https://en.wikipedia.org/wiki/Multilayer_perceptron)) from scratch! Let's start by presenting the task we will try to solve.\n",
    "\n",
    "Here is a dataset composed of two sets of points (the two moons) that your network will have to separate:"
   ]
  },
  {
   "cell_type": "code",
   "execution_count": 4,
   "id": "cb7175ab",
   "metadata": {},
   "outputs": [],
   "source": [
    "# Function to visualize the dataset\n",
    "def plot_clusters(ax, points, cluster):\n",
    "    ax.scatter(points[:, 0], points[:, 1], s=1, c=cluster, cmap=\"bwr\")"
   ]
  },
  {
   "cell_type": "code",
   "execution_count": null,
   "id": "e0c4f0af",
   "metadata": {},
   "outputs": [],
   "source": [
    "X, Y = make_moons(n_samples=2000, noise=0.1)\n",
    "fig, ax = plt.subplots(1, 1)\n",
    "plt.axis(\"off\")\n",
    "plot_clusters(ax, X, Y)"
   ]
  },
  {
   "cell_type": "markdown",
   "id": "12b324c3",
   "metadata": {},
   "source": [
    "Let's code the activation functions. We will use the [rectified linear unit (ReLU)](https://en.wikipedia.org/wiki/Rectifier_(neural_networks)) and a [Sigmoid](https://en.wikipedia.org/wiki/Sigmoid_function):"
   ]
  },
  {
   "cell_type": "code",
   "execution_count": 6,
   "id": "b349e48f",
   "metadata": {},
   "outputs": [],
   "source": [
    "class ReLU(object):\n",
    "    def forward(self, x):\n",
    "        # The formula for the ReLu is y = max(0, x), component-wise\n",
    "\n",
    "        # === YOUR CODE ===\n",
    "        self.y = ...\n",
    "        # =================\n",
    "        return self.y\n",
    "\n",
    "    def backward(self, grad_output):\n",
    "        # Thus the gradient is 1 if x > 0, 0 if not, component-wise\n",
    "        # Also, because this is the function for the backward propagation, we also\n",
    "        # multiply by the previous gradient to propagate the chain rule.\n",
    "\n",
    "        # === YOUR CODE ===\n",
    "        return ...\n",
    "        # =================\n",
    "\n",
    "    def step(self, learning_rate):\n",
    "        # ReLu doesn't have parameters to update, nothing to do here\n",
    "        pass\n",
    "\n",
    "\n",
    "class Sigmoid(object):\n",
    "    def forward(self, x):\n",
    "        # The formula for the the sigmoid is y = 1./(1 + exp(-x)), component-wise\n",
    "        # Also here we save x as we will need it for the backward function\n",
    "\n",
    "        self.x = x\n",
    "\n",
    "        # === YOUR CODE ===\n",
    "        return ...\n",
    "        # =================\n",
    "\n",
    "    def backward(self, grad_output):\n",
    "        # The formula for the partial derivative is e^-x / (e^-x + 1)^2, and\n",
    "        # we multiply by the propagated gradient again\n",
    "\n",
    "        # === YOUR CODE ===\n",
    "        return ...\n",
    "        # =================\n",
    "\n",
    "    def step(self, learning_rate):\n",
    "        # Same as for the ReLU, no parameters to update\n",
    "        pass"
   ]
  },
  {
   "cell_type": "markdown",
   "id": "624fee7f",
   "metadata": {},
   "source": [
    "You can try the two classes:"
   ]
  },
  {
   "cell_type": "code",
   "execution_count": null,
   "id": "467a94c1",
   "metadata": {},
   "outputs": [],
   "source": [
    "print(X[0])\n",
    "\n",
    "relu = ReLU()\n",
    "print(relu.forward(X[0]))\n",
    "print(relu.backward(1.0))\n",
    "\n",
    "sigmoid = Sigmoid()\n",
    "print(sigmoid.forward(X[0]))\n",
    "print(sigmoid.backward(1.0))"
   ]
  },
  {
   "cell_type": "markdown",
   "id": "fadac777",
   "metadata": {},
   "source": [
    "Now you'll implement a class for a linear layer, which is a layer representing a multiplication by a matrix $W$ (the weights) followed by an addition with a column vector $b$ (the bias).\n",
    "\n",
    "The following formulae will help you for the backward function ($in$ is the number of inputs of the layer, $out$ is its number of outputs). We take the convention used in the [Matrix calculus](https://en.wikipedia.org/wiki/Matrix_calculus), stating that a vector is a matrix with a single column.\n",
    "$$\n",
    "x = \\begin{pmatrix}x_1\\\\\\vdots\\\\ x_{in}\\end{pmatrix} \\qquad y = \\begin{pmatrix}y_1\\\\\\vdots\\\\ y_{out}\\end{pmatrix} \\qquad y_i = \\sum_j W_{i,j} x_j + b_i\n",
    "$$\n",
    "so:\n",
    "$$\n",
    "\\dfrac{\\partial y_i}{\\partial W_{i,j}} = x_j\n",
    "$$\n",
    "by backpropagation we have access to $\\dfrac{\\partial L}{\\partial y_i}$:\n",
    "$$\n",
    "\\dfrac{\\partial L}{\\partial y_i} \\overset{def}{=} \\texttt{grad\\_output\\lbrack i\\rbrack}\n",
    "$$\n",
    "thus by the chain rule:\n",
    "$$\n",
    "\\boxed{\n",
    "\\dfrac{\\partial L}{\\partial W_{i,j}} = \\dfrac{\\partial L}{\\partial y_i} \\times \\dfrac{\\partial y_i}{\\partial W_{i,j}} = \\texttt{grad\\_output\\lbrack i\\rbrack} \\times x_j\n",
    "}\n",
    "$$\n",
    "and because:\n",
    "$$\n",
    "\\dfrac{\\partial y_i}{\\partial b_i} = 1\n",
    "$$\n",
    "we have:\n",
    "$$\n",
    "\\boxed{\n",
    "\\dfrac{\\partial L}{\\partial b_i} = \\dfrac{\\partial L}{\\partial y_i} \\times \\dfrac{\\partial y_i}{\\partial b_i} = \\texttt{grad\\_output\\lbrack i\\rbrack}\n",
    "}\n",
    "$$\n",
    "Finally we need to be able to compute the gradient with respect to $x$ to continue the backpropagation. By the chain rule:\n",
    "$$\n",
    "\\dfrac{\\partial L}{\\partial x_j} = \\sum_i \\left( \\dfrac{\\partial L}{\\partial y_i} \\times \\dfrac{\\partial y_i}{\\partial x_j} \\right)\n",
    "$$\n",
    "thus with $\\dfrac{\\partial y_i}{\\partial x_j} = W_{i,j}$:\n",
    "$$\n",
    "\\boxed{\n",
    "\\dfrac{\\partial L}{\\partial x_j} = \\sum_i \\left( \\texttt{grad\\_output\\lbrack i\\rbrack} \\times W_{i,j} \\right)\n",
    "}\n",
    "$$"
   ]
  },
  {
   "cell_type": "code",
   "execution_count": 8,
   "id": "defec7f3",
   "metadata": {},
   "outputs": [],
   "source": [
    "class LinearLayer(object):\n",
    "    def __init__(self, nb_inputs, nb_outputs):\n",
    "        # Initialize the weights W and bias b with np.random.randn\n",
    "        # W has dimension nb_outputs x nb_inputs (we multiply to the left)\n",
    "        # b has dimension nb_outputs x 1\n",
    "\n",
    "        # === YOUR CODE ===\n",
    "        self.W = ...\n",
    "        self.b = ...\n",
    "        # =================\n",
    "\n",
    "    def forward(self, x):\n",
    "        # Return Wx + b\n",
    "        # Once again we save a copy of x, for the backward\n",
    "\n",
    "        self.x = x\n",
    "\n",
    "        # === YOUR CODE ===\n",
    "        return ...\n",
    "        # =================\n",
    "\n",
    "    def backward(self, grad_output):\n",
    "        # Compute grad_W\n",
    "\n",
    "        self.grad_W = np.zeros(np.shape(self.W))\n",
    "        # === YOUR CODE ===\n",
    "        ...\n",
    "        # =================\n",
    "\n",
    "        # Compute grad_b\n",
    "\n",
    "        # === YOUR CODE ===\n",
    "        self.grad_b = ...\n",
    "        # =================\n",
    "\n",
    "        # Compute grad_x and return it for the next backpropagation step\n",
    "        grad_x = np.zeros((len(self.W[0]), 1))\n",
    "\n",
    "        # === YOUR CODE ===\n",
    "        ...\n",
    "        # =================\n",
    "        return grad_x\n",
    "\n",
    "    def step(self, learning_rate):\n",
    "        # This is where we update the parameters W and b with the computed gradients\n",
    "        # Don't forget the minus sign\n",
    "\n",
    "        # === YOUR CODE ===\n",
    "        self.W = ...\n",
    "        self.b = ...\n",
    "        # ================="
   ]
  },
  {
   "cell_type": "markdown",
   "id": "9aa62be3",
   "metadata": {},
   "source": [
    "And now let's define a class for our network by stacking the layers! We will use the Binary [Cross Entropy](https://en.wikipedia.org/wiki/Cross-entropy) loss (BCELoss). Given the label $l$ of a point (its cluster, or the moon it belongs to) and the output $y$ of the network, the formula is: $-\\left( l\\log(y) + (1 - l)\\log(1 - y) \\right)$"
   ]
  },
  {
   "cell_type": "code",
   "execution_count": 9,
   "id": "a365a95e",
   "metadata": {},
   "outputs": [],
   "source": [
    "class SequentialNetwork(object):\n",
    "    def __init__(self, layers):\n",
    "        self.layers = layers\n",
    "\n",
    "    def forward(self, x):\n",
    "        x = x.T\n",
    "        for layer in self.layers:\n",
    "            x = layer.forward(x)\n",
    "        return x\n",
    "\n",
    "    def compute_loss(self, output, label):\n",
    "        # Here we split the computation in two cases, one where the label is 0\n",
    "        # and one where it's 1\n",
    "        # We need to save the gradient and return the loss\n",
    "        # To avoid divisions by 0, you can add a small value (1e-13) to the denominator\n",
    "\n",
    "        # === YOUR CODE ===\n",
    "        if label == 0:\n",
    "            self.grad = ...\n",
    "            return ...\n",
    "        elif label == 1:\n",
    "            self.grad = ...\n",
    "            return ...\n",
    "        # =================\n",
    "\n",
    "    def backward(self):\n",
    "        # Then we backpropagate layer by layer, starting from the gradient of\n",
    "        # the loss that has been saved above\n",
    "\n",
    "        for layer in self.layers[::-1]:\n",
    "            # === YOUR CODE ===\n",
    "            self.grad = ...\n",
    "            # =================\n",
    "\n",
    "    def step(self, learning_rate):\n",
    "        # And finally we can update each layer parameters!\n",
    "\n",
    "        for layer in self.layers:\n",
    "            # === YOUR CODE ===\n",
    "            ...\n",
    "            # ================="
   ]
  },
  {
   "cell_type": "markdown",
   "id": "ab9ae8be",
   "metadata": {},
   "source": [
    "Let's define a network that has one linear layer with 2 inputs (a 2D point) and $h$ outputs (hidden dimension) followed by a ReLU, then another linear layer with $h$ inputs and 1 output followed by a Sigmoid. You can also change the parameters and the number of layers to try different architectures!"
   ]
  },
  {
   "cell_type": "code",
   "execution_count": 10,
   "id": "92f465d2",
   "metadata": {},
   "outputs": [],
   "source": [
    "h = 50\n",
    "\n",
    "# === YOUR CODE ===\n",
    "network = SequentialNetwork([...])\n",
    "# ================="
   ]
  },
  {
   "cell_type": "markdown",
   "id": "3edecfa9",
   "metadata": {},
   "source": [
    "Here is a function to visualize the current results of your network, step by step:"
   ]
  },
  {
   "cell_type": "code",
   "execution_count": 11,
   "id": "d6c2ce51",
   "metadata": {},
   "outputs": [],
   "source": [
    "grid_x, grid_y = np.meshgrid(np.arange(-1.5, 2.5, 0.1), np.arange(-1, 1.5, 0.1))\n",
    "input_points = np.array(list(zip(grid_x.flatten(), grid_y.flatten())))\n",
    "\n",
    "\n",
    "def plot_network_results(ax, X, Y, network, input_points):\n",
    "    Z = network.forward(input_points)\n",
    "    Z = Z.reshape(grid_x.shape)\n",
    "    ax.contourf(grid_x, grid_y, Z > 0.5, cmap=\"bwr\")\n",
    "    plot_clusters(ax, X, Y)"
   ]
  },
  {
   "cell_type": "markdown",
   "id": "7ae8233e",
   "metadata": {},
   "source": [
    "Here is the cell to launch the training. You can see the different steps (forward pass, loss computation, backward pass and finally parameter updates). The result of the network for several training iterations will be plotted at the end."
   ]
  },
  {
   "cell_type": "code",
   "execution_count": null,
   "id": "faa9c4c1",
   "metadata": {},
   "outputs": [],
   "source": [
    "# Feel free to change these parameters too\n",
    "learning_rate = 1e-2\n",
    "nb_iter = 10000\n",
    "nb_steps_to_show = 15\n",
    "\n",
    "# For visualisation\n",
    "steps_to_show = np.linspace(0, nb_iter - 1, nb_steps_to_show).astype(int)\n",
    "nb_fig_lines = int(np.ceil(nb_steps_to_show / 5))\n",
    "fig, axs = plt.subplots(nb_fig_lines, 5, figsize=(20, 4 * nb_fig_lines))\n",
    "plot_count = 0\n",
    "\n",
    "# Keep track of the loss values throughout the steps\n",
    "losses = []\n",
    "\n",
    "for it in tqdm(range(nb_iter)):\n",
    "    # Pick a random point with its label\n",
    "    p = np.random.randint(len(X))\n",
    "    point, label = X[p : p + 1], Y[p]\n",
    "\n",
    "    # Forward pass on the point\n",
    "    output = network.forward(point)\n",
    "\n",
    "    # Compute the loss according to the output and the label\n",
    "    # We store it to be able to plot them at the end\n",
    "    losses.append(network.compute_loss(output, label))\n",
    "\n",
    "    # Backward pass\n",
    "    network.backward()\n",
    "\n",
    "    # Update step\n",
    "    network.step(learning_rate)\n",
    "\n",
    "    # Plot the results for some iterations\n",
    "    if it in steps_to_show:\n",
    "        current_ax = axs[plot_count // 5, plot_count % 5]\n",
    "        plot_network_results(current_ax, X, Y, network, input_points)\n",
    "        current_ax.axis(\"off\")\n",
    "        current_ax.set_title(f\"Iteration {it}\")\n",
    "        plot_count += 1\n",
    "for idx in range(plot_count, 5 * nb_fig_lines):\n",
    "    axs[idx // 5, idx % 5].axis(\"off\")\n",
    "plt.show()"
   ]
  },
  {
   "cell_type": "markdown",
   "id": "723e9f53",
   "metadata": {},
   "source": [
    "Let's plot the final results and the losses throughout the training:"
   ]
  },
  {
   "cell_type": "code",
   "execution_count": null,
   "id": "8176dbd6",
   "metadata": {},
   "outputs": [],
   "source": [
    "fig, ax = plt.subplots(1, 1)\n",
    "plot_network_results(ax, X, Y, network, input_points)\n",
    "plt.show()\n",
    "\n",
    "# Plot the loss curve throughout the iterations\n",
    "losses = np.squeeze(losses)\n",
    "_ = plt.plot(losses)"
   ]
  },
  {
   "cell_type": "markdown",
   "id": "71fa8b8f",
   "metadata": {},
   "source": [
    "We can see that our training is working, our network is able to efficiently separate the two datasets. However, we can see that we had to do a lot of computations and coding for a simple network, especially for the gradients. Fortunately, there are Python packages that allow us to do all of this automatically. We will here make use of [PyTorch](https://doi.org/10.48550/arXiv.1912.01703) to code the same network to compare both implementations."
   ]
  },
  {
   "cell_type": "markdown",
   "id": "50910fb1",
   "metadata": {},
   "source": [
    "<h3 style=\"color:skyblue\">PyTorch, or how to make better networks with less work</h3>"
   ]
  },
  {
   "cell_type": "markdown",
   "id": "174f30bc",
   "metadata": {},
   "source": [
    "Two of the main upgrades that PyTorch brings to the table are:\n",
    "- the possibility to do the computations on various devices, such as [CPUs](https://en.wikipedia.org/wiki/Central_processing_unit) and [GPUs](https://en.wikipedia.org/wiki/Graphics_processing_unit) (thanks to [CUDA](https://doi.org/10.1145/1401132.1401152) and the use of [tensors](https://pytorch.org/tutorials/beginner/basics/tensorqs_tutorial.html)) very easily (tensors are similar to numpy arrays but optimized for differentiation),\n",
    "- an automatic differentiation engine called [autograd](https://pytorch.org/tutorials/beginner/basics/autogradqs_tutorial.html) which enables backpropagations without having to manually compute the gradient formulae. In practice, every tensor in PyTorch has a boolean parameter `requires_grad` stating if it is part of the gradient flow or not. When the backward function is called, all parameters with `requires_grad` set to `True` have their gradients computed, from the \"leaf\" tensors to the \"root\".\n",
    "\n",
    "If you have CUDA set up on your machine, the following cell will register that all computations should take place on your GPU. Otherwise, they will take place on your CPU. Then, all models and data need to be transferred on the chosen device using the command `.to(device)`."
   ]
  },
  {
   "cell_type": "code",
   "execution_count": null,
   "id": "42d67bdb",
   "metadata": {},
   "outputs": [],
   "source": [
    "device = \"cuda\" if torch.cuda.is_available() else \"cpu\"\n",
    "print(f\"Using {device} device\")"
   ]
  },
  {
   "cell_type": "markdown",
   "id": "799f2897",
   "metadata": {},
   "source": [
    "Let's recreate the same network in torch:"
   ]
  },
  {
   "cell_type": "code",
   "execution_count": 15,
   "id": "2628f428",
   "metadata": {},
   "outputs": [],
   "source": [
    "class LinearNetwork(nn.Module):\n",
    "    def __init__(self):\n",
    "        super().__init__()\n",
    "        self.network = nn.Sequential(\n",
    "            nn.Linear(2, h), nn.ReLU(), nn.Linear(h, 1), nn.Sigmoid()\n",
    "        )\n",
    "\n",
    "    def forward(self, x):\n",
    "        return self.network(x)"
   ]
  },
  {
   "cell_type": "markdown",
   "id": "a13e5cb0",
   "metadata": {},
   "source": [
    "We can take a look at our network:"
   ]
  },
  {
   "cell_type": "code",
   "execution_count": null,
   "id": "68c6fc56",
   "metadata": {},
   "outputs": [],
   "source": [
    "torch_network = LinearNetwork().to(device)\n",
    "print(torch_network)"
   ]
  },
  {
   "cell_type": "markdown",
   "id": "87f5cd15",
   "metadata": {},
   "source": [
    "The following cell will import all our data into tensors, set up the correct device and then launch the training. The steps are the same as before but this time al operations are Torch-based (same plots as before)."
   ]
  },
  {
   "cell_type": "code",
   "execution_count": null,
   "id": "e1a2d983",
   "metadata": {},
   "outputs": [],
   "source": [
    "# Feel free to change these\n",
    "learning_rate_torch = 1e-2\n",
    "nb_iter = 20000\n",
    "nb_steps_to_show = 15\n",
    "\n",
    "# For visualisation\n",
    "steps_to_show = np.linspace(0, nb_iter - 1, nb_steps_to_show).astype(int)\n",
    "nb_fig_lines = int(np.ceil(nb_steps_to_show / 5))\n",
    "fig, axs = plt.subplots(nb_fig_lines, 5, figsize=(20, 4 * nb_fig_lines))\n",
    "plot_count = 0\n",
    "\n",
    "# Optimizer that will update our model paramters, takes as input the learning rate\n",
    "# SGD for Stochastic Gradient Descent\n",
    "optimizer = optim.SGD(torch_network.parameters(), lr=learning_rate_torch)\n",
    "\n",
    "# We convert our inputs to torch and put everything on the selected device\n",
    "X_torch = torch.from_numpy(X).float().to(device)\n",
    "Y_torch = torch.from_numpy(Y).float().to(device)\n",
    "input_points_torch = torch.from_numpy(input_points).float().to(device)\n",
    "torch_network.to(device)\n",
    "\n",
    "torch_losses = []\n",
    "\n",
    "# Binary Cross Entropy loss in torch\n",
    "criterion = nn.BCELoss()\n",
    "\n",
    "for it in tqdm(range(nb_iter)):\n",
    "    # Pick a random point with its label\n",
    "    p = np.random.randint(len(X))\n",
    "    point = X_torch[p : p + 1]\n",
    "    label = Y_torch[p : p + 1].unsqueeze(1)\n",
    "\n",
    "    # Forward pass\n",
    "    output = torch_network(point)\n",
    "\n",
    "    # Compute the loss according to the output and the label\n",
    "    # We store it to be able to plot them at the end\n",
    "    # The detach function extracts the value from the gradient flow\n",
    "    loss = criterion(output, label)\n",
    "    torch_losses.append(loss.detach().numpy())\n",
    "\n",
    "    # Reset the gradients\n",
    "    optimizer.zero_grad()\n",
    "\n",
    "    # Backward pass\n",
    "    loss.backward()\n",
    "\n",
    "    # Update the parameters\n",
    "    optimizer.step()\n",
    "\n",
    "    # Plot the results for some iterations\n",
    "    if it in steps_to_show:\n",
    "        current_ax = axs[plot_count // 5, plot_count % 5]\n",
    "        plot_network_results(current_ax, X, Y, torch_network, input_points_torch)\n",
    "        current_ax.axis(\"off\")\n",
    "        current_ax.set_title(f\"Iteration {it}\")\n",
    "        plot_count += 1\n",
    "for idx in range(plot_count, 5 * nb_fig_lines):\n",
    "    axs[idx // 5, idx % 5].axis(\"off\")\n",
    "plt.show()"
   ]
  },
  {
   "cell_type": "markdown",
   "id": "172b84dc",
   "metadata": {},
   "source": [
    "Let's plot the final results and the losses throughout the training:"
   ]
  },
  {
   "cell_type": "code",
   "execution_count": null,
   "id": "3e279fc1",
   "metadata": {},
   "outputs": [],
   "source": [
    "fig, ax = plt.subplots(1, 1)\n",
    "plot_network_results(ax, X, Y, torch_network, input_points_torch)\n",
    "plt.show()\n",
    "\n",
    "# Plot the loss curve throughout the iterations\n",
    "losses = np.squeeze(torch_losses)\n",
    "_ = plt.plot(torch_losses)"
   ]
  },
  {
   "cell_type": "markdown",
   "id": "ec920d02",
   "metadata": {},
   "source": [
    "We can see that although the model that is numpy-based seems to reach correct results in less training steps than the Torch-based model, the loss values are the same and we didn't have to compute all partial derivatives and then implement them, everything was done automatically. Moreover, we're actually overlooking a great functionality of tensor-based computing, which is the ability to pack more than one sample of data (in our previous example: more than one point) when doing the forward pass. This packs of data are called batches and can greatly speed up the training for little to no additional time cost."
   ]
  },
  {
   "cell_type": "markdown",
   "id": "70f54006",
   "metadata": {},
   "source": [
    "<h3 style=\"color:skyblue\">Saving your trained models</h3>"
   ]
  },
  {
   "cell_type": "markdown",
   "id": "5e8697b8",
   "metadata": {},
   "source": [
    "Moreover, what's important in our network are its learnable parameters (for our previous network, the weights and biases of both linear layers). In fact, the PyTorch library creates for any model a parameter called `state_dict` which is a dictionnary mapping any layer of a model to its parameters (usually in a tensor). When you are satisfied of your `model` and want to re-use it without having to go through the training again, you can save its `state_dict` with the following code line: `torch.save(model.state_dict(), PATH)` where `PATH` is the path where you want to store the `state_dict`:"
   ]
  },
  {
   "cell_type": "code",
   "execution_count": null,
   "id": "4b55148d",
   "metadata": {},
   "outputs": [],
   "source": [
    "save_folder = Path(\"./checkpoints\")\n",
    "save_folder.mkdir(parents=True, exist_ok=True)\n",
    "save_path = save_folder / \"my_trained_linearnetwork.pt\"\n",
    "\n",
    "torch.save(torch_network.state_dict(), save_path)"
   ]
  },
  {
   "cell_type": "markdown",
   "id": "4ecc7d1e",
   "metadata": {},
   "source": [
    "You can then load it again in a fresh model (created with `model = MyModelClass()`, which would be `model = LinearNetwork()` in our case) by first retrieving the `state_dict` with `state_dict = torch.load(PATH, weights_only=True)` and then setting them back in the model with `model.load_state_dict(state_dict)`."
   ]
  },
  {
   "cell_type": "code",
   "execution_count": null,
   "id": "cf9976be",
   "metadata": {},
   "outputs": [],
   "source": [
    "new_torch_network = LinearNetwork()\n",
    "\n",
    "saved_state_dict = torch.load(save_path, weights_only=True)\n",
    "new_torch_network.load_state_dict(saved_state_dict)"
   ]
  },
  {
   "cell_type": "markdown",
   "id": "7bd31759",
   "metadata": {},
   "source": [
    "<h3 style=\"color:skyblue\">Different types of training</h3>"
   ]
  },
  {
   "cell_type": "markdown",
   "id": "b5281239",
   "metadata": {},
   "source": [
    "Finally, what we did here is called [supervised learning](https://en.wikipedia.org/wiki/Supervised_learning), which is the process of training a network with labeled data (we know beforehand which cluster the points belong to). There are other training types such as [unsupervised learning](https://en.wikipedia.org/wiki/Unsupervised_learning), which is the opposite: we don't have access to labels to train our network. In our example, it would mean having to separate clusters by only looking at where the points lie on the 2D plane. There is also the [semi-supervised learning](https://en.wikipedia.org/wiki/Weak_supervision), where only a subset of the data has been labeled."
   ]
  }
 ],
 "metadata": {
  "kernelspec": {
   "display_name": "base",
   "language": "python",
   "name": "python3"
  },
  "language_info": {
   "codemirror_mode": {
    "name": "ipython",
    "version": 3
   },
   "file_extension": ".py",
   "mimetype": "text/x-python",
   "name": "python",
   "nbconvert_exporter": "python",
   "pygments_lexer": "ipython3",
   "version": "3.11.7"
  }
 },
 "nbformat": 4,
 "nbformat_minor": 5
}
